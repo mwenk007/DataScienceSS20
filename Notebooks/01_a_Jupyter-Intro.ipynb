{
  "nbformat": 4,
  "nbformat_minor": 0,
  "metadata": {
    "kernelspec": {
      "display_name": "Python 3",
      "language": "python",
      "name": "python3"
    },
    "language_info": {
      "codemirror_mode": {
        "name": "ipython",
        "version": 3
      },
      "file_extension": ".py",
      "mimetype": "text/x-python",
      "name": "python",
      "nbconvert_exporter": "python",
      "pygments_lexer": "ipython3",
      "version": "3.7.1"
    },
    "colab": {
      "name": "01_a_Jupyter-Intro.ipynb",
      "provenance": []
    }
  },
  "cells": [
    {
      "cell_type": "markdown",
      "metadata": {
        "id": "rw8Kfk3ITSKE",
        "colab_type": "text"
      },
      "source": [
        "# Jupyter Lab - Web IDE \n",
        "* By Janis Keuper\n",
        "* Copyright: Creative Commons Attribution 3.0 Unported License. To view a copy of this license, visit http://creativecommons.org/licenses/by/3.0/"
      ]
    },
    {
      "cell_type": "markdown",
      "metadata": {
        "id": "A0fbJCQBWe5G",
        "colab_type": "text"
      },
      "source": [
        ""
      ]
    },
    {
      "cell_type": "code",
      "metadata": {
        "id": "1bgS_W1ZWfPM",
        "colab_type": "code",
        "colab": {}
      },
      "source": [
        ""
      ],
      "execution_count": 0,
      "outputs": []
    },
    {
      "cell_type": "code",
      "metadata": {
        "id": "rm0TrqmfTSKF",
        "colab_type": "code",
        "colab": {
          "base_uri": "https://localhost:8080/",
          "height": 119
        },
        "outputId": "1be5156c-6688-46ff-dcbc-43fb4405f6a0"
      },
      "source": [
        "#check if notebook runs in colab Yep\n",
        "import sys\n",
        "IN_COLAB = 'google.colab' in sys.modules\n",
        "print('running in Colab:',IN_COLAB)\n",
        "path='..'\n",
        "if IN_COLAB:\n",
        "  #in colab, we need to clone the data from the repo\n",
        "  !git clone https://github.com/keuperj/DataScienceSS20.git\n",
        "  path='DataScienceSS20'"
      ],
      "execution_count": 1,
      "outputs": [
        {
          "output_type": "stream",
          "text": [
            "running in Colab: True\n",
            "Cloning into 'DataScienceSS20'...\n",
            "remote: Enumerating objects: 151, done.\u001b[K\n",
            "remote: Total 151 (delta 0), reused 0 (delta 0), pack-reused 151\u001b[K\n",
            "Receiving objects: 100% (151/151), 27.49 MiB | 17.80 MiB/s, done.\n",
            "Resolving deltas: 100% (64/64), done.\n"
          ],
          "name": "stdout"
        }
      ]
    },
    {
      "cell_type": "code",
      "metadata": {
        "id": "KkJhTwqvTSKJ",
        "colab_type": "code",
        "colab": {
          "base_uri": "https://localhost:8080/",
          "height": 34
        },
        "outputId": "f59fa6d7-8aa3-43cf-8b42-fb82b92341b6"
      },
      "source": [
        "print(\"hello\")"
      ],
      "execution_count": 2,
      "outputs": [
        {
          "output_type": "stream",
          "text": [
            "hello\n"
          ],
          "name": "stdout"
        }
      ]
    },
    {
      "cell_type": "code",
      "metadata": {
        "id": "LUBpK1gcXFk6",
        "colab_type": "code",
        "colab": {
          "base_uri": "https://localhost:8080/",
          "height": 34
        },
        "outputId": "90d4f408-2a31-47b8-d3a7-1d06ca0aef6e"
      },
      "source": [
        "1+1"
      ],
      "execution_count": 3,
      "outputs": [
        {
          "output_type": "execute_result",
          "data": {
            "text/plain": [
              "2"
            ]
          },
          "metadata": {
            "tags": []
          },
          "execution_count": 3
        }
      ]
    },
    {
      "cell_type": "markdown",
      "metadata": {
        "id": "HPpWKT8DTSKM",
        "colab_type": "text"
      },
      "source": [
        "## Live Demo \n",
        "* Files\n",
        "* Notebooks\n",
        "* Terminal\n",
        "* Kernels\n",
        "* Keyboard Shortcuts\n",
        "* Save and Export"
      ]
    },
    {
      "cell_type": "markdown",
      "metadata": {
        "id": "Y7QDq4iPTSKM",
        "colab_type": "text"
      },
      "source": [
        "## Cells\n",
        "* Code vs Markup\n",
        "* Execute Cells"
      ]
    },
    {
      "cell_type": "markdown",
      "metadata": {
        "id": "Oi-qzJzrTSKN",
        "colab_type": "text"
      },
      "source": [
        "## Markup Cells"
      ]
    },
    {
      "cell_type": "markdown",
      "metadata": {
        "id": "nU6j8LJNTSKN",
        "colab_type": "text"
      },
      "source": [
        "### Jupyter Markup\n"
      ]
    },
    {
      "cell_type": "markdown",
      "metadata": {
        "id": "S9kpAXPZTSKO",
        "colab_type": "text"
      },
      "source": [
        "#### Headings\n",
        "``` \n",
        "# Heading 1\n",
        "# Heading 2\n",
        "## Heading 2.1\n",
        "## Heading 2.2\n",
        "```\n"
      ]
    },
    {
      "cell_type": "markdown",
      "metadata": {
        "id": "wq8aiEtgTSKO",
        "colab_type": "text"
      },
      "source": [
        "#### Lists\n",
        "* a\n",
        "* bullet point list"
      ]
    },
    {
      "cell_type": "markdown",
      "metadata": {
        "id": "YmlVllmzTSKP",
        "colab_type": "text"
      },
      "source": [
        "1. numbered\n",
        "2. list\n",
        "3. is possible"
      ]
    },
    {
      "cell_type": "markdown",
      "metadata": {
        "id": "9Ly5vO1mTSKP",
        "colab_type": "text"
      },
      "source": [
        "#### Text Formating\n",
        "* *Italic*\n",
        "* **blod**\n",
        "* ***bold and italic***"
      ]
    },
    {
      "cell_type": "markdown",
      "metadata": {
        "id": "_LDUU6vvTSKQ",
        "colab_type": "text"
      },
      "source": [
        "#### Tables\n",
        "| This | is   |\n",
        "|------|------|\n",
        "|   a  | table|"
      ]
    },
    {
      "cell_type": "markdown",
      "metadata": {
        "id": "jcxmVhFuTSKQ",
        "colab_type": "text"
      },
      "source": [
        "#### Latex Formulars \n",
        "You can write formulars in text, like $e^{i\\pi} + 1 = 0$.\n",
        "\n",
        "Or block equations\n",
        "\n",
        "$$e^x=\\sum_{i=0}^\\infty \\frac{1}{i!}x^i$$"
      ]
    },
    {
      "cell_type": "markdown",
      "metadata": {
        "id": "rTr07BFyTSKR",
        "colab_type": "text"
      },
      "source": [
        "#### Links\n",
        "Add links, like one to more information on latex [link](https://www.overleaf.com/learn/latex/Free_online_introduction_to_LaTeX_(part_1))"
      ]
    },
    {
      "cell_type": "markdown",
      "metadata": {
        "id": "WSS6k6HHTSKR",
        "colab_type": "text"
      },
      "source": [
        "#### HTML\n",
        "or simply write HTML code:\n",
        "\n",
        "<H3> HTML test</H3>\n",
        "<img src=\"https://github.com/mwenk007/DataScienceSS20/blob/master/Notebooks/IMG/jupyter_logo.png?raw=1\" width=300>"
      ]
    },
    {
      "cell_type": "markdown",
      "metadata": {
        "id": "QyWXEXqxTSKS",
        "colab_type": "text"
      },
      "source": [
        "#### Source Code\n",
        "Python:\n",
        "```python\n",
        "print \"Hello World\"\n",
        "```\n",
        "\n",
        "Java Script\n",
        "```javascript\n",
        "console.log(\"Hello World\")\n",
        "```\n"
      ]
    },
    {
      "cell_type": "markdown",
      "metadata": {
        "id": "h1yZk8SCTSKS",
        "colab_type": "text"
      },
      "source": [
        "## Code Cells"
      ]
    },
    {
      "cell_type": "code",
      "metadata": {
        "id": "ewwgeFWPTSKT",
        "colab_type": "code",
        "colab": {
          "base_uri": "https://localhost:8080/",
          "height": 34
        },
        "outputId": "7f50541d-2e1e-4566-a8cf-4d342adfe2d0"
      },
      "source": [
        "print (\"this is python code\")"
      ],
      "execution_count": 4,
      "outputs": [
        {
          "output_type": "stream",
          "text": [
            "this is python code\n"
          ],
          "name": "stdout"
        }
      ]
    },
    {
      "cell_type": "markdown",
      "metadata": {
        "id": "e3iQvde6TSKW",
        "colab_type": "text"
      },
      "source": [
        "#### Autocompletion "
      ]
    },
    {
      "cell_type": "code",
      "metadata": {
        "id": "SeU3egjCTSKX",
        "colab_type": "code",
        "colab": {}
      },
      "source": [
        "a = \"This is a STRING\""
      ],
      "execution_count": 0,
      "outputs": []
    },
    {
      "cell_type": "code",
      "metadata": {
        "id": "spMpL61RTSKa",
        "colab_type": "code",
        "colab": {}
      },
      "source": [
        "# press tab to see the available methods \n",
        "a.l"
      ],
      "execution_count": 0,
      "outputs": []
    },
    {
      "cell_type": "markdown",
      "metadata": {
        "id": "Y2rSty3GTSKe",
        "colab_type": "text"
      },
      "source": [
        "#### API Documentation and Help"
      ]
    },
    {
      "cell_type": "code",
      "metadata": {
        "id": "f7KqaFIaTSKf",
        "colab_type": "code",
        "colab": {}
      },
      "source": [
        "# add '?' in front of call\n"
      ],
      "execution_count": 0,
      "outputs": []
    },
    {
      "cell_type": "markdown",
      "metadata": {
        "id": "LUtZLmkiTSKh",
        "colab_type": "text"
      },
      "source": [
        "## System Calls\n",
        "Call OS cmd-line tools via the \"!\" opperator:"
      ]
    },
    {
      "cell_type": "code",
      "metadata": {
        "id": "ftxlWTurTSKi",
        "colab_type": "code",
        "colab": {}
      },
      "source": [
        "!ls -lha"
      ],
      "execution_count": 0,
      "outputs": []
    },
    {
      "cell_type": "markdown",
      "metadata": {
        "id": "GnSeKj6BTSKm",
        "colab_type": "text"
      },
      "source": [
        "## Magic-Commands\n",
        "Jupyter has build in, so-called \"magic commands\" (full list [https://ipython.readthedocs.io/en/stable/interactive/magics.html](here))"
      ]
    },
    {
      "cell_type": "code",
      "metadata": {
        "id": "SxzOCO_GTSKn",
        "colab_type": "code",
        "colab": {}
      },
      "source": [
        "#single runtime \n",
        "%time \n",
        "for i in range(1000):\n",
        "    pass"
      ],
      "execution_count": 0,
      "outputs": []
    },
    {
      "cell_type": "code",
      "metadata": {
        "id": "ADHWQaMrTSKr",
        "colab_type": "code",
        "colab": {}
      },
      "source": [
        "#runtime test\n",
        "%timeit a=34*56"
      ],
      "execution_count": 0,
      "outputs": []
    },
    {
      "cell_type": "code",
      "metadata": {
        "id": "SZJG7ra1TSKu",
        "colab_type": "code",
        "colab": {}
      },
      "source": [
        "# load the autoreload extension\n",
        "%load_ext autoreload\n",
        "# Set extension to reload modules every time before executing code\n",
        "%autoreload 2\n"
      ],
      "execution_count": 0,
      "outputs": []
    },
    {
      "cell_type": "code",
      "metadata": {
        "id": "YGGwVGJKTSKw",
        "colab_type": "code",
        "colab": {}
      },
      "source": [
        "a=5\n",
        "f=\"test\"\n",
        "# Outputs a list of all interactive variables in your environment\n",
        "%who_ls"
      ],
      "execution_count": 0,
      "outputs": []
    },
    {
      "cell_type": "code",
      "metadata": {
        "id": "3cdmlTYhTSKy",
        "colab_type": "code",
        "colab": {}
      },
      "source": [
        "# Reduces the output to interactive variables of type \"function\"\n",
        "%who_ls function"
      ],
      "execution_count": 0,
      "outputs": []
    },
    {
      "cell_type": "code",
      "metadata": {
        "id": "X4gNu2ZvTSKz",
        "colab_type": "code",
        "colab": {}
      },
      "source": [
        ""
      ],
      "execution_count": 0,
      "outputs": []
    }
  ]
}