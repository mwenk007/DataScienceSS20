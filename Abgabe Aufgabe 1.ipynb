{
  "nbformat": 4,
  "nbformat_minor": 0,
  "metadata": {
    "kernelspec": {
      "display_name": "Python 3",
      "language": "python",
      "name": "python3"
    },
    "language_info": {
      "codemirror_mode": {
        "name": "ipython",
        "version": 3
      },
      "file_extension": ".py",
      "mimetype": "text/x-python",
      "name": "python",
      "nbconvert_exporter": "python",
      "pygments_lexer": "ipython3",
      "version": "3.7.1"
    },
    "colab": {
      "name": "Copy of 1_a_Python.ipynb",
      "provenance": [],
      "collapsed_sections": [],
      "toc_visible": true,
      "include_colab_link": true
    }
  },
  "cells": [
    {
      "cell_type": "markdown",
      "metadata": {
        "id": "view-in-github",
        "colab_type": "text"
      },
      "source": [
        "<a href=\"https://colab.research.google.com/github/mwenk007/DataScienceSS20/blob/master/Abgabe%20Aufgabe%201.ipynb\" target=\"_parent\"><img src=\"https://colab.research.google.com/assets/colab-badge.svg\" alt=\"Open In Colab\"/></a>"
      ]
    },
    {
      "cell_type": "markdown",
      "metadata": {
        "id": "rVew4l6MgJw4",
        "colab_type": "text"
      },
      "source": [
        "# Exercise I: Your own Python module "
      ]
    },
    {
      "cell_type": "code",
      "metadata": {
        "id": "ndfXovm9gJw5",
        "colab_type": "code",
        "outputId": "472dd8d1-07d2-45fd-f6eb-2111ef7b0602",
        "colab": {}
      },
      "source": [
        "#check if notebook runs in colab\n",
        "import sys\n",
        "IN_COLAB = 'google.colab' in sys.modules\n",
        "print('running in Colab:',IN_COLAB)\n",
        "path='..'\n",
        "if IN_COLAB:\n",
        "  #in colab, we need to clone the data from the repo\n",
        "  !git clone https://github.com/keuperj/DataScienceSS20.git\n",
        "  path='DataScienceSS20'"
      ],
      "execution_count": 0,
      "outputs": [
        {
          "output_type": "stream",
          "text": [
            "running in Colab: False\n"
          ],
          "name": "stdout"
        }
      ]
    },
    {
      "cell_type": "markdown",
      "metadata": {
        "id": "SwQZBjWpgJw-",
        "colab_type": "text"
      },
      "source": [
        "Write your own python module (choose a name) with the following properties:\n",
        "\n",
        "1. start new python file for the module\n",
        "2. define a class ***ListKeeper*** with the following properties and API:\n",
        "   1. ***Listkeeper*** strores named lists (hint: use dictionaries) \n",
        "   2. it initializes with a list named *example*: [1,2,3,4,5]\n",
        "   3. ``show()`` returns all list names\n",
        "   4. ``add(name, list)`` adds a new list\n",
        "   5. ``delete(name)`` deletes list\n",
        "   6. ``sort(name)`` returns the sorted list *name*\n",
        "   7. ``append(name, list)`` appends *list* to *name* \n",
        "3. add comments and documentation to your class\n",
        "4. Import your module in this notebook\n",
        "5. write tests to check the functionality of your class "
      ]
    },
    {
      "cell_type": "code",
      "metadata": {
        "id": "K0gxiLgagJw-",
        "colab_type": "code",
        "colab": {}
      },
      "source": [
        "import MySuperModule"
      ],
      "execution_count": 0,
      "outputs": []
    },
    {
      "cell_type": "code",
      "metadata": {
        "id": "YJ_ErJh1ga-k",
        "colab_type": "code",
        "outputId": "7f1b871f-d7f2-4bac-ac39-5046ce13c24b",
        "colab": {
          "base_uri": "https://localhost:8080/",
          "height": 170
        }
      },
      "source": [
        "# Klasse Listkeeper\n",
        "class Listkeeper:\n",
        "  \n",
        "  # Dictionary erstellen\n",
        "  dictionaryList = dict()\n",
        "\n",
        "  # Dictionary mit einem Beispielarray initialisieren\n",
        "  def init(self):\n",
        "    self.dictionaryList['example'] = [1,2,3,4,5]\n",
        "\n",
        "  # Dictionary anzeigen\n",
        "  def show(self):\n",
        "    #return self.dictionaryList.keys()\n",
        "    print (self.dictionaryList.keys())\n",
        "\n",
        "  # Zu Dictionary neue Liste hinzufügen\n",
        "  def add(self,name,newList):\n",
        "    self.dictionaryList[name] = newList\n",
        "\n",
        "  # Liste aus Dictionary löschen\n",
        "  def delete(self, name):\n",
        "    self.dictionaryList.pop(name)\n",
        "\n",
        "  #Liste in Dictionary sortieren\n",
        "  def sort(self, name):\n",
        "    self.dictionaryList[name].sort()\n",
        "\n",
        "  #Wert ans Ende der Liste im Dictionary hinzufügen\n",
        "  def append(self, name, appList):\n",
        "    self.dictionaryList[name].extend(appList)\n",
        "\n",
        "  #Werte von Liste innerhalb des Dictionarys prüfen\n",
        "  def getitem(self,key):\n",
        "    print (self.dictionaryList[key])\n",
        "\n",
        "#Test auf Funktionalität\n",
        "L1 = Listkeeper()\n",
        "L1.init()\n",
        "L1.show()\n",
        "L1.getitem(\"example\")\n",
        "L1.add(\"Array2\",[66,77,88])\n",
        "L1.show()\n",
        "L1.getitem(\"Array2\")            \n",
        "L1.delete(\"Array2\")\n",
        "L1.show()\n",
        "L1.add(\"Array3\",[999,166,177,188])\n",
        "L1.show()\n",
        "L1.getitem(\"Array3\")\n",
        "L1.sort(\"Array3\")\n",
        "L1.getitem(\"Array3\")\n",
        "L1.append(\"Array3\",[16666])\n",
        "L1.getitem(\"Array3\")"
      ],
      "execution_count": 32,
      "outputs": [
        {
          "output_type": "stream",
          "text": [
            "dict_keys(['example'])\n",
            "[1, 2, 3, 4, 5]\n",
            "dict_keys(['example', 'Array2'])\n",
            "[66, 77, 88]\n",
            "dict_keys(['example'])\n",
            "dict_keys(['example', 'Array3'])\n",
            "[999, 166, 177, 188]\n",
            "[166, 177, 188, 999]\n",
            "[166, 177, 188, 999, 16666]\n"
          ],
          "name": "stdout"
        }
      ]
    }
  ]
}